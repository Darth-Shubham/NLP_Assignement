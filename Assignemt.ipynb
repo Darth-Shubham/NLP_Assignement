{
 "cells": [
  {
   "cell_type": "code",
   "execution_count": 3,
   "id": "b9462305-6081-4333-8585-a635e8e659e4",
   "metadata": {},
   "outputs": [],
   "source": [
    "import pandas as pd\n",
    "import re\n",
    "import numpy as np\n",
    "import matplotlib.pyplot as plt\n",
    "import csv\n",
    "\n",
    "import nltk\n",
    "# Uncomment this and run it once\n",
    "# nltk.download('punkt')\n",
    "# nltk.download('stopwords')\n",
    "# nltk.download('wordnet')\n",
    "# nltk.download('punkt_tab')\n",
    "from nltk.corpus import stopwords\n",
    "from nltk.tokenize import word_tokenize, sent_tokenize\n",
    "from nltk.stem import WordNetLemmatizer\n",
    "\n",
    "from sklearn.model_selection import train_test_split\n",
    "from sklearn.preprocessing import LabelEncoder\n",
    "\n",
    "from tensorflow.keras.preprocessing.text import Tokenizer\n",
    "from tensorflow.keras.preprocessing.sequence import pad_sequences"
   ]
  },
  {
   "cell_type": "code",
   "execution_count": null,
   "id": "3d0b645e-1796-4fba-8d88-97f17664820b",
   "metadata": {},
   "outputs": [],
   "source": [
    "import tensorflow as tf\n",
    "from tensorflow.keras.models import Sequential\n",
    "from tensorflow.keras.layers import Embedding, Bidirectional, LSTM, Dense, Dropout, GlobalAveragePooling1D, BatchNormalization\n",
    "from sklearn.metrics import confusion_matrix, ConfusionMatrixDisplay\n",
    "from tensorflow.keras.utils import to_categorical"
   ]
  },
  {
   "cell_type": "code",
   "execution_count": 27,
   "id": "be9aa23c-1fe8-417e-91c7-c2f28e6ac6fd",
   "metadata": {},
   "outputs": [],
   "source": [
    "pd.set_option('max_colwidth', 100)"
   ]
  },
  {
   "cell_type": "markdown",
   "id": "18d058e0-79b1-4dd0-8df1-73f8272b2404",
   "metadata": {},
   "source": [
    "# RNN LSTM Model For Class Prediction"
   ]
  },
  {
   "cell_type": "code",
   "execution_count": null,
   "id": "42c9369c-750f-4600-8578-b2e9bf0e3fe2",
   "metadata": {},
   "outputs": [],
   "source": [
    "# Intitializing WordNetLemmatizer and word corpus\n",
    "lemmatizer = WordNetLemmatizer()\n",
    "stop_words = set(stopwords.words('english'))"
   ]
  },
  {
   "cell_type": "markdown",
   "id": "3b0d8ed1-6749-47c4-9cb7-119cab4362b7",
   "metadata": {},
   "source": [
    "## Cleaning Data"
   ]
  },
  {
   "cell_type": "code",
   "execution_count": 9,
   "id": "bfc71cf6-d99a-4845-b7c9-4a00cdc1a0e3",
   "metadata": {},
   "outputs": [],
   "source": [
    "# Cleaning data by removing unwanted charaters usint RegEx\n",
    "def dataCleaning(text):\n",
    "    text = text.lower()\n",
    "    text = re.sub(r'\\\\[ntr]', ' ', text)\n",
    "    text = re.sub(r'https\\S+|www\\S+', '', text)\n",
    "    text = text.replace('&', 'and')\n",
    "    text = re.sub(r'\\(ref:\\s*\\d+\\)', '', text)\n",
    "    text = re.sub(r'[^a-zA-Z0-9\\s\\+\\-\\*/=<>\\%\\^\\(\\)π]', '', text)\n",
    "\n",
    "    tokens = word_tokenize(text)\n",
    "    tokens = [lemmatizer.lemmatize(word) for word in tokens if word not in stop_words]\n",
    "\n",
    "    return ' '.join(tokens)"
   ]
  },
  {
   "cell_type": "code",
   "execution_count": 7,
   "id": "24fc3f3e-916a-47e9-833e-10a301b4e843",
   "metadata": {},
   "outputs": [],
   "source": [
    "dataset = pd.read_csv('education_text_dataset_10000.csv')"
   ]
  },
  {
   "cell_type": "code",
   "execution_count": 8,
   "id": "2c47bd69-1187-4ee7-ab47-b70df2f0bbc4",
   "metadata": {},
   "outputs": [
    {
     "data": {
      "text/html": [
       "<div>\n",
       "<style scoped>\n",
       "    .dataframe tbody tr th:only-of-type {\n",
       "        vertical-align: middle;\n",
       "    }\n",
       "\n",
       "    .dataframe tbody tr th {\n",
       "        vertical-align: top;\n",
       "    }\n",
       "\n",
       "    .dataframe thead th {\n",
       "        text-align: right;\n",
       "    }\n",
       "</style>\n",
       "<table border=\"1\" class=\"dataframe\">\n",
       "  <thead>\n",
       "    <tr style=\"text-align: right;\">\n",
       "      <th></th>\n",
       "      <th>text</th>\n",
       "      <th>subject</th>\n",
       "    </tr>\n",
       "  </thead>\n",
       "  <tbody>\n",
       "    <tr>\n",
       "      <th>0</th>\n",
       "      <td>Discuss how historical events influence literary themes, using war poetry as an example. ? Inclu...</td>\n",
       "      <td>English</td>\n",
       "    </tr>\n",
       "    <tr>\n",
       "      <th>1</th>\n",
       "      <td>The human heart has four chambers and pumps blood throughout the body. ; How do we use this in r...</td>\n",
       "      <td>Science</td>\n",
       "    </tr>\n",
       "    <tr>\n",
       "      <th>2</th>\n",
       "      <td>Atoms bond to form molecules by sharing or transferring electrons. , Why is this important? (Ref...</td>\n",
       "      <td>Science</td>\n",
       "    </tr>\n",
       "    <tr>\n",
       "      <th>3</th>\n",
       "      <td>Explain the causes and effects of World War I. ? Why is this important? (Ref: 81)</td>\n",
       "      <td>History</td>\n",
       "    </tr>\n",
       "    <tr>\n",
       "      <th>4</th>\n",
       "      <td>Atoms are the basic building blocks of matter. : Include key facts. (Ref: 32)</td>\n",
       "      <td>Science</td>\n",
       "    </tr>\n",
       "  </tbody>\n",
       "</table>\n",
       "</div>"
      ],
      "text/plain": [
       "                                                                                                  text  \\\n",
       "0  Discuss how historical events influence literary themes, using war poetry as an example. ? Inclu...   \n",
       "1  The human heart has four chambers and pumps blood throughout the body. ; How do we use this in r...   \n",
       "2  Atoms bond to form molecules by sharing or transferring electrons. , Why is this important? (Ref...   \n",
       "3                    Explain the causes and effects of World War I. ? Why is this important? (Ref: 81)   \n",
       "4                        Atoms are the basic building blocks of matter. : Include key facts. (Ref: 32)   \n",
       "\n",
       "   subject  \n",
       "0  English  \n",
       "1  Science  \n",
       "2  Science  \n",
       "3  History  \n",
       "4  Science  "
      ]
     },
     "execution_count": 8,
     "metadata": {},
     "output_type": "execute_result"
    }
   ],
   "source": [
    "dataset.head()"
   ]
  },
  {
   "cell_type": "code",
   "execution_count": 9,
   "id": "8016df4f-d01b-4b9e-92b0-4c59d3db3246",
   "metadata": {},
   "outputs": [],
   "source": [
    "label_enco = LabelEncoder()\n",
    "\n",
    "# Allpying Label Encoder to Encode the subject classes\n",
    "dataset['label'] = label_enco.fit_transform(dataset['subject'])\n",
    "dataset['clean_text'] = dataset['text'].apply(dataCleaning)"
   ]
  },
  {
   "cell_type": "code",
   "execution_count": 10,
   "id": "ea5bab56-f726-4cfc-8360-70e0c52271c7",
   "metadata": {
    "scrolled": true
   },
   "outputs": [
    {
     "data": {
      "text/html": [
       "<div>\n",
       "<style scoped>\n",
       "    .dataframe tbody tr th:only-of-type {\n",
       "        vertical-align: middle;\n",
       "    }\n",
       "\n",
       "    .dataframe tbody tr th {\n",
       "        vertical-align: top;\n",
       "    }\n",
       "\n",
       "    .dataframe thead th {\n",
       "        text-align: right;\n",
       "    }\n",
       "</style>\n",
       "<table border=\"1\" class=\"dataframe\">\n",
       "  <thead>\n",
       "    <tr style=\"text-align: right;\">\n",
       "      <th></th>\n",
       "      <th>text</th>\n",
       "      <th>subject</th>\n",
       "      <th>label</th>\n",
       "      <th>clean_text</th>\n",
       "    </tr>\n",
       "  </thead>\n",
       "  <tbody>\n",
       "    <tr>\n",
       "      <th>0</th>\n",
       "      <td>Discuss how historical events influence literary themes, using war poetry as an example. ? Inclu...</td>\n",
       "      <td>English</td>\n",
       "      <td>0</td>\n",
       "      <td>discus historical event influence literary theme using war poetry example include key fact</td>\n",
       "    </tr>\n",
       "    <tr>\n",
       "      <th>1</th>\n",
       "      <td>The human heart has four chambers and pumps blood throughout the body. ; How do we use this in r...</td>\n",
       "      <td>Science</td>\n",
       "      <td>3</td>\n",
       "      <td>human heart four chamber pump blood throughout body use real life</td>\n",
       "    </tr>\n",
       "    <tr>\n",
       "      <th>2</th>\n",
       "      <td>Atoms bond to form molecules by sharing or transferring electrons. , Why is this important? (Ref...</td>\n",
       "      <td>Science</td>\n",
       "      <td>3</td>\n",
       "      <td>atom bond form molecule sharing transferring electron important</td>\n",
       "    </tr>\n",
       "    <tr>\n",
       "      <th>3</th>\n",
       "      <td>Explain the causes and effects of World War I. ? Why is this important? (Ref: 81)</td>\n",
       "      <td>History</td>\n",
       "      <td>1</td>\n",
       "      <td>explain cause effect world war important</td>\n",
       "    </tr>\n",
       "    <tr>\n",
       "      <th>4</th>\n",
       "      <td>Atoms are the basic building blocks of matter. : Include key facts. (Ref: 32)</td>\n",
       "      <td>Science</td>\n",
       "      <td>3</td>\n",
       "      <td>atom basic building block matter include key fact</td>\n",
       "    </tr>\n",
       "    <tr>\n",
       "      <th>5</th>\n",
       "      <td>Shakespeare’s history plays often reflect the political issues of his time. ; Why is this import...</td>\n",
       "      <td>English</td>\n",
       "      <td>0</td>\n",
       "      <td>shakespeare history play often reflect political issue time important</td>\n",
       "    </tr>\n",
       "    <tr>\n",
       "      <th>6</th>\n",
       "      <td>The area of a circle is given by πr^2. Calculate the area when r = 5. , Explain briefly. (Ref: 56)</td>\n",
       "      <td>Maths</td>\n",
       "      <td>2</td>\n",
       "      <td>area circle given πr^2 calculate area r = 5 explain briefly</td>\n",
       "    </tr>\n",
       "    <tr>\n",
       "      <th>7</th>\n",
       "      <td>Discuss how historical events influence literary themes, using war poetry as an example. : Expla...</td>\n",
       "      <td>English</td>\n",
       "      <td>0</td>\n",
       "      <td>discus historical event influence literary theme using war poetry example explain briefly</td>\n",
       "    </tr>\n",
       "    <tr>\n",
       "      <th>8</th>\n",
       "      <td>Solve for x: 2x + 3 = 11. . Refer to the chart above. (Ref: 68)</td>\n",
       "      <td>Maths</td>\n",
       "      <td>2</td>\n",
       "      <td>solve x 2x + 3 = 11 refer chart</td>\n",
       "    </tr>\n",
       "    <tr>\n",
       "      <th>9</th>\n",
       "      <td>The Industrial Revolution began in the late 18th century and transformed societies. ? How do we ...</td>\n",
       "      <td>History</td>\n",
       "      <td>1</td>\n",
       "      <td>industrial revolution began late 18th century transformed society use real life</td>\n",
       "    </tr>\n",
       "  </tbody>\n",
       "</table>\n",
       "</div>"
      ],
      "text/plain": [
       "                                                                                                  text  \\\n",
       "0  Discuss how historical events influence literary themes, using war poetry as an example. ? Inclu...   \n",
       "1  The human heart has four chambers and pumps blood throughout the body. ; How do we use this in r...   \n",
       "2  Atoms bond to form molecules by sharing or transferring electrons. , Why is this important? (Ref...   \n",
       "3                    Explain the causes and effects of World War I. ? Why is this important? (Ref: 81)   \n",
       "4                        Atoms are the basic building blocks of matter. : Include key facts. (Ref: 32)   \n",
       "5  Shakespeare’s history plays often reflect the political issues of his time. ; Why is this import...   \n",
       "6   The area of a circle is given by πr^2. Calculate the area when r = 5. , Explain briefly. (Ref: 56)   \n",
       "7  Discuss how historical events influence literary themes, using war poetry as an example. : Expla...   \n",
       "8                                      Solve for x: 2x + 3 = 11. . Refer to the chart above. (Ref: 68)   \n",
       "9  The Industrial Revolution began in the late 18th century and transformed societies. ? How do we ...   \n",
       "\n",
       "   subject  label  \\\n",
       "0  English      0   \n",
       "1  Science      3   \n",
       "2  Science      3   \n",
       "3  History      1   \n",
       "4  Science      3   \n",
       "5  English      0   \n",
       "6    Maths      2   \n",
       "7  English      0   \n",
       "8    Maths      2   \n",
       "9  History      1   \n",
       "\n",
       "                                                                                   clean_text  \n",
       "0  discus historical event influence literary theme using war poetry example include key fact  \n",
       "1                           human heart four chamber pump blood throughout body use real life  \n",
       "2                             atom bond form molecule sharing transferring electron important  \n",
       "3                                                    explain cause effect world war important  \n",
       "4                                           atom basic building block matter include key fact  \n",
       "5                       shakespeare history play often reflect political issue time important  \n",
       "6                                 area circle given πr^2 calculate area r = 5 explain briefly  \n",
       "7   discus historical event influence literary theme using war poetry example explain briefly  \n",
       "8                                                             solve x 2x + 3 = 11 refer chart  \n",
       "9             industrial revolution began late 18th century transformed society use real life  "
      ]
     },
     "execution_count": 10,
     "metadata": {},
     "output_type": "execute_result"
    }
   ],
   "source": [
    "dataset.head(10)"
   ]
  },
  {
   "cell_type": "code",
   "execution_count": 11,
   "id": "db3140b0-0417-4766-8b0b-a7f03bf417fe",
   "metadata": {},
   "outputs": [],
   "source": [
    "text = dataset['clean_text'].values\n",
    "labels = dataset['label'].values"
   ]
  },
  {
   "cell_type": "markdown",
   "id": "a033f871-fac9-4317-bc47-52668b46adf5",
   "metadata": {},
   "source": [
    "## Spliting data into Train(80%), Test(10%) and Validation(10%)"
   ]
  },
  {
   "cell_type": "code",
   "execution_count": 13,
   "id": "9d89e6a8-7024-4b7e-a221-91b72269268f",
   "metadata": {},
   "outputs": [],
   "source": [
    "X_train, X_temp, y_train, y_temp = train_test_split(text, labels, test_size=0.3, stratify=labels, shuffle=True, random_state=42)\n",
    "X_val, X_test, y_val, y_test = train_test_split(X_temp, y_temp, test_size=0.5, stratify=y_temp, shuffle=True, random_state=42)"
   ]
  },
  {
   "cell_type": "code",
   "execution_count": 14,
   "id": "9cd1a408-98a0-4ea2-a304-e413e8110237",
   "metadata": {},
   "outputs": [
    {
     "name": "stdout",
     "output_type": "stream",
     "text": [
      "7000 1500 1500\n"
     ]
    }
   ],
   "source": [
    "print(len(X_train), len(X_val), len(X_test))"
   ]
  },
  {
   "cell_type": "markdown",
   "id": "4466d586-c2ce-426f-8bd5-a72f7dae3e56",
   "metadata": {
    "jp-MarkdownHeadingCollapsed": true
   },
   "source": [
    "## Tokenization and Padding"
   ]
  },
  {
   "cell_type": "code",
   "execution_count": 16,
   "id": "3beece3c-9d55-4e7e-9760-0923175ce350",
   "metadata": {},
   "outputs": [],
   "source": [
    "tokenizer = Tokenizer(oov_token=\"<oov>\", lower = True)\n",
    "tokenizer.fit_on_texts(X_train)\n",
    "\n",
    "X_train_seq = tokenizer.texts_to_sequences(X_train)\n",
    "X_val_seq = tokenizer.texts_to_sequences(X_val)\n",
    "X_test_seq = tokenizer.texts_to_sequences(X_test)\n",
    "\n",
    "max_length = 100\n",
    "X_train_pad = pad_sequences(X_train_seq, maxlen=max_length, padding='post', truncating='post')\n",
    "X_val_pad = pad_sequences(X_val_seq, maxlen=max_length, padding='post', truncating='post')\n",
    "X_test_pad = pad_sequences(X_test_seq, maxlen=max_length, padding='post', truncating='post')\n",
    "\n",
    "vocab_size = len(tokenizer.word_index) + 1"
   ]
  },
  {
   "cell_type": "markdown",
   "id": "47fb1faf-42ba-4623-8df5-cfcbbdc24427",
   "metadata": {},
   "source": [
    "## Model Creation"
   ]
  },
  {
   "cell_type": "code",
   "execution_count": 19,
   "id": "c922a72e-e931-48a0-9537-c9719cf14aed",
   "metadata": {
    "scrolled": true
   },
   "outputs": [
    {
     "name": "stderr",
     "output_type": "stream",
     "text": [
      "E:\\Anaconda\\envs\\env_nlp\\lib\\site-packages\\keras\\src\\layers\\core\\embedding.py:90: UserWarning: Argument `input_length` is deprecated. Just remove it.\n",
      "  warnings.warn(\n"
     ]
    },
    {
     "data": {
      "text/html": [
       "<pre style=\"white-space:pre;overflow-x:auto;line-height:normal;font-family:Menlo,'DejaVu Sans Mono',consolas,'Courier New',monospace\"><span style=\"font-weight: bold\">Model: \"sequential\"</span>\n",
       "</pre>\n"
      ],
      "text/plain": [
       "\u001b[1mModel: \"sequential\"\u001b[0m\n"
      ]
     },
     "metadata": {},
     "output_type": "display_data"
    },
    {
     "data": {
      "text/html": [
       "<pre style=\"white-space:pre;overflow-x:auto;line-height:normal;font-family:Menlo,'DejaVu Sans Mono',consolas,'Courier New',monospace\">┏━━━━━━━━━━━━━━━━━━━━━━━━━━━━━━━━━━━━━━┳━━━━━━━━━━━━━━━━━━━━━━━━━━━━━┳━━━━━━━━━━━━━━━━━┓\n",
       "┃<span style=\"font-weight: bold\"> Layer (type)                         </span>┃<span style=\"font-weight: bold\"> Output Shape                </span>┃<span style=\"font-weight: bold\">         Param # </span>┃\n",
       "┡━━━━━━━━━━━━━━━━━━━━━━━━━━━━━━━━━━━━━━╇━━━━━━━━━━━━━━━━━━━━━━━━━━━━━╇━━━━━━━━━━━━━━━━━┩\n",
       "│ embedding (<span style=\"color: #0087ff; text-decoration-color: #0087ff\">Embedding</span>)                │ ?                           │     <span style=\"color: #00af00; text-decoration-color: #00af00\">0</span> (unbuilt) │\n",
       "├──────────────────────────────────────┼─────────────────────────────┼─────────────────┤\n",
       "│ bidirectional (<span style=\"color: #0087ff; text-decoration-color: #0087ff\">Bidirectional</span>)        │ ?                           │     <span style=\"color: #00af00; text-decoration-color: #00af00\">0</span> (unbuilt) │\n",
       "├──────────────────────────────────────┼─────────────────────────────┼─────────────────┤\n",
       "│ dropout (<span style=\"color: #0087ff; text-decoration-color: #0087ff\">Dropout</span>)                    │ ?                           │               <span style=\"color: #00af00; text-decoration-color: #00af00\">0</span> │\n",
       "├──────────────────────────────────────┼─────────────────────────────┼─────────────────┤\n",
       "│ dense (<span style=\"color: #0087ff; text-decoration-color: #0087ff\">Dense</span>)                        │ ?                           │     <span style=\"color: #00af00; text-decoration-color: #00af00\">0</span> (unbuilt) │\n",
       "├──────────────────────────────────────┼─────────────────────────────┼─────────────────┤\n",
       "│ dropout_1 (<span style=\"color: #0087ff; text-decoration-color: #0087ff\">Dropout</span>)                  │ ?                           │               <span style=\"color: #00af00; text-decoration-color: #00af00\">0</span> │\n",
       "├──────────────────────────────────────┼─────────────────────────────┼─────────────────┤\n",
       "│ dense_1 (<span style=\"color: #0087ff; text-decoration-color: #0087ff\">Dense</span>)                      │ ?                           │     <span style=\"color: #00af00; text-decoration-color: #00af00\">0</span> (unbuilt) │\n",
       "└──────────────────────────────────────┴─────────────────────────────┴─────────────────┘\n",
       "</pre>\n"
      ],
      "text/plain": [
       "┏━━━━━━━━━━━━━━━━━━━━━━━━━━━━━━━━━━━━━━┳━━━━━━━━━━━━━━━━━━━━━━━━━━━━━┳━━━━━━━━━━━━━━━━━┓\n",
       "┃\u001b[1m \u001b[0m\u001b[1mLayer (type)                        \u001b[0m\u001b[1m \u001b[0m┃\u001b[1m \u001b[0m\u001b[1mOutput Shape               \u001b[0m\u001b[1m \u001b[0m┃\u001b[1m \u001b[0m\u001b[1m        Param #\u001b[0m\u001b[1m \u001b[0m┃\n",
       "┡━━━━━━━━━━━━━━━━━━━━━━━━━━━━━━━━━━━━━━╇━━━━━━━━━━━━━━━━━━━━━━━━━━━━━╇━━━━━━━━━━━━━━━━━┩\n",
       "│ embedding (\u001b[38;5;33mEmbedding\u001b[0m)                │ ?                           │     \u001b[38;5;34m0\u001b[0m (unbuilt) │\n",
       "├──────────────────────────────────────┼─────────────────────────────┼─────────────────┤\n",
       "│ bidirectional (\u001b[38;5;33mBidirectional\u001b[0m)        │ ?                           │     \u001b[38;5;34m0\u001b[0m (unbuilt) │\n",
       "├──────────────────────────────────────┼─────────────────────────────┼─────────────────┤\n",
       "│ dropout (\u001b[38;5;33mDropout\u001b[0m)                    │ ?                           │               \u001b[38;5;34m0\u001b[0m │\n",
       "├──────────────────────────────────────┼─────────────────────────────┼─────────────────┤\n",
       "│ dense (\u001b[38;5;33mDense\u001b[0m)                        │ ?                           │     \u001b[38;5;34m0\u001b[0m (unbuilt) │\n",
       "├──────────────────────────────────────┼─────────────────────────────┼─────────────────┤\n",
       "│ dropout_1 (\u001b[38;5;33mDropout\u001b[0m)                  │ ?                           │               \u001b[38;5;34m0\u001b[0m │\n",
       "├──────────────────────────────────────┼─────────────────────────────┼─────────────────┤\n",
       "│ dense_1 (\u001b[38;5;33mDense\u001b[0m)                      │ ?                           │     \u001b[38;5;34m0\u001b[0m (unbuilt) │\n",
       "└──────────────────────────────────────┴─────────────────────────────┴─────────────────┘\n"
      ]
     },
     "metadata": {},
     "output_type": "display_data"
    },
    {
     "data": {
      "text/html": [
       "<pre style=\"white-space:pre;overflow-x:auto;line-height:normal;font-family:Menlo,'DejaVu Sans Mono',consolas,'Courier New',monospace\"><span style=\"font-weight: bold\"> Total params: </span><span style=\"color: #00af00; text-decoration-color: #00af00\">0</span> (0.00 B)\n",
       "</pre>\n"
      ],
      "text/plain": [
       "\u001b[1m Total params: \u001b[0m\u001b[38;5;34m0\u001b[0m (0.00 B)\n"
      ]
     },
     "metadata": {},
     "output_type": "display_data"
    },
    {
     "data": {
      "text/html": [
       "<pre style=\"white-space:pre;overflow-x:auto;line-height:normal;font-family:Menlo,'DejaVu Sans Mono',consolas,'Courier New',monospace\"><span style=\"font-weight: bold\"> Trainable params: </span><span style=\"color: #00af00; text-decoration-color: #00af00\">0</span> (0.00 B)\n",
       "</pre>\n"
      ],
      "text/plain": [
       "\u001b[1m Trainable params: \u001b[0m\u001b[38;5;34m0\u001b[0m (0.00 B)\n"
      ]
     },
     "metadata": {},
     "output_type": "display_data"
    },
    {
     "data": {
      "text/html": [
       "<pre style=\"white-space:pre;overflow-x:auto;line-height:normal;font-family:Menlo,'DejaVu Sans Mono',consolas,'Courier New',monospace\"><span style=\"font-weight: bold\"> Non-trainable params: </span><span style=\"color: #00af00; text-decoration-color: #00af00\">0</span> (0.00 B)\n",
       "</pre>\n"
      ],
      "text/plain": [
       "\u001b[1m Non-trainable params: \u001b[0m\u001b[38;5;34m0\u001b[0m (0.00 B)\n"
      ]
     },
     "metadata": {},
     "output_type": "display_data"
    }
   ],
   "source": [
    "embedding_dim = 64\n",
    "lstm_units = 32\n",
    "num_classes = 4\n",
    "\n",
    "model = Sequential([\n",
    "    Embedding(input_dim = vocab_size, output_dim=embedding_dim, input_length = 100),\n",
    "    Bidirectional(LSTM(128, return_sequences=False)),\n",
    "    Dropout(0.3),\n",
    "    Dense(64, activation='relu'),\n",
    "    Dropout(0.2),\n",
    "    Dense(num_classes, activation='softmax')\n",
    "])\n",
    "\n",
    "model.compile(loss='sparse_categorical_crossentropy', optimizer='adam', metrics=['accuracy'])\n",
    "model.summary()"
   ]
  },
  {
   "cell_type": "code",
   "execution_count": 20,
   "id": "1b619904-4fd5-41e1-8abe-4f5ca6ca8644",
   "metadata": {
    "scrolled": true
   },
   "outputs": [
    {
     "name": "stdout",
     "output_type": "stream",
     "text": [
      "Epoch 1/20\n",
      "\u001b[1m140/140\u001b[0m \u001b[32m━━━━━━━━━━━━━━━━━━━━\u001b[0m\u001b[37m\u001b[0m \u001b[1m19s\u001b[0m 102ms/step - accuracy: 0.7331 - loss: 0.7181 - val_accuracy: 1.0000 - val_loss: 7.8609e-05\n",
      "Epoch 2/20\n",
      "\u001b[1m140/140\u001b[0m \u001b[32m━━━━━━━━━━━━━━━━━━━━\u001b[0m\u001b[37m\u001b[0m \u001b[1m17s\u001b[0m 122ms/step - accuracy: 1.0000 - loss: 4.1205e-04 - val_accuracy: 1.0000 - val_loss: 1.2513e-05\n",
      "Epoch 3/20\n",
      "\u001b[1m140/140\u001b[0m \u001b[32m━━━━━━━━━━━━━━━━━━━━\u001b[0m\u001b[37m\u001b[0m \u001b[1m22s\u001b[0m 130ms/step - accuracy: 1.0000 - loss: 1.5628e-04 - val_accuracy: 1.0000 - val_loss: 3.9534e-06\n",
      "Epoch 4/20\n",
      "\u001b[1m140/140\u001b[0m \u001b[32m━━━━━━━━━━━━━━━━━━━━\u001b[0m\u001b[37m\u001b[0m \u001b[1m18s\u001b[0m 125ms/step - accuracy: 1.0000 - loss: 6.8530e-05 - val_accuracy: 1.0000 - val_loss: 1.2274e-06\n",
      "Epoch 5/20\n",
      "\u001b[1m140/140\u001b[0m \u001b[32m━━━━━━━━━━━━━━━━━━━━\u001b[0m\u001b[37m\u001b[0m \u001b[1m16s\u001b[0m 112ms/step - accuracy: 1.0000 - loss: 4.0139e-05 - val_accuracy: 1.0000 - val_loss: 7.4792e-07\n",
      "Epoch 6/20\n",
      "\u001b[1m140/140\u001b[0m \u001b[32m━━━━━━━━━━━━━━━━━━━━\u001b[0m\u001b[37m\u001b[0m \u001b[1m16s\u001b[0m 114ms/step - accuracy: 1.0000 - loss: 1.7773e-05 - val_accuracy: 1.0000 - val_loss: 3.7058e-07\n",
      "Epoch 7/20\n",
      "\u001b[1m140/140\u001b[0m \u001b[32m━━━━━━━━━━━━━━━━━━━━\u001b[0m\u001b[37m\u001b[0m \u001b[1m16s\u001b[0m 113ms/step - accuracy: 1.0000 - loss: 1.7427e-05 - val_accuracy: 1.0000 - val_loss: 2.0846e-07\n",
      "Epoch 8/20\n",
      "\u001b[1m140/140\u001b[0m \u001b[32m━━━━━━━━━━━━━━━━━━━━\u001b[0m\u001b[37m\u001b[0m \u001b[1m16s\u001b[0m 113ms/step - accuracy: 1.0000 - loss: 3.0982e-05 - val_accuracy: 1.0000 - val_loss: 2.1656e-07\n",
      "Epoch 9/20\n",
      "\u001b[1m140/140\u001b[0m \u001b[32m━━━━━━━━━━━━━━━━━━━━\u001b[0m\u001b[37m\u001b[0m \u001b[1m15s\u001b[0m 110ms/step - accuracy: 1.0000 - loss: 1.4438e-05 - val_accuracy: 1.0000 - val_loss: 2.5813e-07\n",
      "Epoch 10/20\n",
      "\u001b[1m140/140\u001b[0m \u001b[32m━━━━━━━━━━━━━━━━━━━━\u001b[0m\u001b[37m\u001b[0m \u001b[1m14s\u001b[0m 97ms/step - accuracy: 1.0000 - loss: 9.6958e-06 - val_accuracy: 1.0000 - val_loss: 9.9897e-08\n",
      "Epoch 11/20\n",
      "\u001b[1m140/140\u001b[0m \u001b[32m━━━━━━━━━━━━━━━━━━━━\u001b[0m\u001b[37m\u001b[0m \u001b[1m14s\u001b[0m 97ms/step - accuracy: 1.0000 - loss: 1.0689e-05 - val_accuracy: 1.0000 - val_loss: 5.3485e-08\n",
      "Epoch 12/20\n",
      "\u001b[1m140/140\u001b[0m \u001b[32m━━━━━━━━━━━━━━━━━━━━\u001b[0m\u001b[37m\u001b[0m \u001b[1m14s\u001b[0m 98ms/step - accuracy: 1.0000 - loss: 1.3477e-05 - val_accuracy: 1.0000 - val_loss: 5.5790e-08\n",
      "Epoch 13/20\n",
      "\u001b[1m140/140\u001b[0m \u001b[32m━━━━━━━━━━━━━━━━━━━━\u001b[0m\u001b[37m\u001b[0m \u001b[1m16s\u001b[0m 114ms/step - accuracy: 1.0000 - loss: 1.0138e-05 - val_accuracy: 1.0000 - val_loss: 2.7657e-08\n",
      "Epoch 14/20\n",
      "\u001b[1m140/140\u001b[0m \u001b[32m━━━━━━━━━━━━━━━━━━━━\u001b[0m\u001b[37m\u001b[0m \u001b[1m14s\u001b[0m 103ms/step - accuracy: 1.0000 - loss: 6.7000e-06 - val_accuracy: 1.0000 - val_loss: 1.1762e-08\n",
      "Epoch 15/20\n",
      "\u001b[1m140/140\u001b[0m \u001b[32m━━━━━━━━━━━━━━━━━━━━\u001b[0m\u001b[37m\u001b[0m \u001b[1m16s\u001b[0m 111ms/step - accuracy: 1.0000 - loss: 5.8774e-06 - val_accuracy: 1.0000 - val_loss: 4.5300e-09\n",
      "Epoch 16/20\n",
      "\u001b[1m140/140\u001b[0m \u001b[32m━━━━━━━━━━━━━━━━━━━━\u001b[0m\u001b[37m\u001b[0m \u001b[1m16s\u001b[0m 112ms/step - accuracy: 1.0000 - loss: 3.3426e-06 - val_accuracy: 1.0000 - val_loss: 2.3842e-09\n",
      "Epoch 17/20\n",
      "\u001b[1m140/140\u001b[0m \u001b[32m━━━━━━━━━━━━━━━━━━━━\u001b[0m\u001b[37m\u001b[0m \u001b[1m16s\u001b[0m 112ms/step - accuracy: 1.0000 - loss: 1.1521e-05 - val_accuracy: 1.0000 - val_loss: 6.6829e-07\n",
      "Epoch 18/20\n",
      "\u001b[1m140/140\u001b[0m \u001b[32m━━━━━━━━━━━━━━━━━━━━\u001b[0m\u001b[37m\u001b[0m \u001b[1m15s\u001b[0m 107ms/step - accuracy: 1.0000 - loss: 2.0270e-05 - val_accuracy: 1.0000 - val_loss: 1.4885e-07\n",
      "Epoch 19/20\n",
      "\u001b[1m140/140\u001b[0m \u001b[32m━━━━━━━━━━━━━━━━━━━━\u001b[0m\u001b[37m\u001b[0m \u001b[1m15s\u001b[0m 105ms/step - accuracy: 1.0000 - loss: 1.5537e-05 - val_accuracy: 1.0000 - val_loss: 1.8915e-08\n"
     ]
    }
   ],
   "source": [
    "history = model.fit(\n",
    "    X_train_pad, y_train,\n",
    "    epochs=20,\n",
    "    batch_size=50,\n",
    "    validation_data=(X_val_pad, y_val),\n",
    "    callbacks=[tf.keras.callbacks.EarlyStopping(monitor='val_loss', patience=3, restore_best_weights=True)]\n",
    ")"
   ]
  },
  {
   "cell_type": "code",
   "execution_count": 21,
   "id": "03fda54d-8e30-44fc-9ce0-bcfe162df925",
   "metadata": {
    "scrolled": true
   },
   "outputs": [
    {
     "data": {
      "text/html": [
       "<pre style=\"white-space:pre;overflow-x:auto;line-height:normal;font-family:Menlo,'DejaVu Sans Mono',consolas,'Courier New',monospace\"><span style=\"font-weight: bold\">Model: \"sequential\"</span>\n",
       "</pre>\n"
      ],
      "text/plain": [
       "\u001b[1mModel: \"sequential\"\u001b[0m\n"
      ]
     },
     "metadata": {},
     "output_type": "display_data"
    },
    {
     "data": {
      "text/html": [
       "<pre style=\"white-space:pre;overflow-x:auto;line-height:normal;font-family:Menlo,'DejaVu Sans Mono',consolas,'Courier New',monospace\">┏━━━━━━━━━━━━━━━━━━━━━━━━━━━━━━━━━━━━━━┳━━━━━━━━━━━━━━━━━━━━━━━━━━━━━┳━━━━━━━━━━━━━━━━━┓\n",
       "┃<span style=\"font-weight: bold\"> Layer (type)                         </span>┃<span style=\"font-weight: bold\"> Output Shape                </span>┃<span style=\"font-weight: bold\">         Param # </span>┃\n",
       "┡━━━━━━━━━━━━━━━━━━━━━━━━━━━━━━━━━━━━━━╇━━━━━━━━━━━━━━━━━━━━━━━━━━━━━╇━━━━━━━━━━━━━━━━━┩\n",
       "│ embedding (<span style=\"color: #0087ff; text-decoration-color: #0087ff\">Embedding</span>)                │ (<span style=\"color: #00af00; text-decoration-color: #00af00\">50</span>, <span style=\"color: #00af00; text-decoration-color: #00af00\">100</span>, <span style=\"color: #00af00; text-decoration-color: #00af00\">64</span>)               │          <span style=\"color: #00af00; text-decoration-color: #00af00\">11,840</span> │\n",
       "├──────────────────────────────────────┼─────────────────────────────┼─────────────────┤\n",
       "│ bidirectional (<span style=\"color: #0087ff; text-decoration-color: #0087ff\">Bidirectional</span>)        │ (<span style=\"color: #00af00; text-decoration-color: #00af00\">50</span>, <span style=\"color: #00af00; text-decoration-color: #00af00\">256</span>)                   │         <span style=\"color: #00af00; text-decoration-color: #00af00\">197,632</span> │\n",
       "├──────────────────────────────────────┼─────────────────────────────┼─────────────────┤\n",
       "│ dropout (<span style=\"color: #0087ff; text-decoration-color: #0087ff\">Dropout</span>)                    │ (<span style=\"color: #00af00; text-decoration-color: #00af00\">50</span>, <span style=\"color: #00af00; text-decoration-color: #00af00\">256</span>)                   │               <span style=\"color: #00af00; text-decoration-color: #00af00\">0</span> │\n",
       "├──────────────────────────────────────┼─────────────────────────────┼─────────────────┤\n",
       "│ dense (<span style=\"color: #0087ff; text-decoration-color: #0087ff\">Dense</span>)                        │ (<span style=\"color: #00af00; text-decoration-color: #00af00\">50</span>, <span style=\"color: #00af00; text-decoration-color: #00af00\">64</span>)                    │          <span style=\"color: #00af00; text-decoration-color: #00af00\">16,448</span> │\n",
       "├──────────────────────────────────────┼─────────────────────────────┼─────────────────┤\n",
       "│ dropout_1 (<span style=\"color: #0087ff; text-decoration-color: #0087ff\">Dropout</span>)                  │ (<span style=\"color: #00af00; text-decoration-color: #00af00\">50</span>, <span style=\"color: #00af00; text-decoration-color: #00af00\">64</span>)                    │               <span style=\"color: #00af00; text-decoration-color: #00af00\">0</span> │\n",
       "├──────────────────────────────────────┼─────────────────────────────┼─────────────────┤\n",
       "│ dense_1 (<span style=\"color: #0087ff; text-decoration-color: #0087ff\">Dense</span>)                      │ (<span style=\"color: #00af00; text-decoration-color: #00af00\">50</span>, <span style=\"color: #00af00; text-decoration-color: #00af00\">4</span>)                     │             <span style=\"color: #00af00; text-decoration-color: #00af00\">260</span> │\n",
       "└──────────────────────────────────────┴─────────────────────────────┴─────────────────┘\n",
       "</pre>\n"
      ],
      "text/plain": [
       "┏━━━━━━━━━━━━━━━━━━━━━━━━━━━━━━━━━━━━━━┳━━━━━━━━━━━━━━━━━━━━━━━━━━━━━┳━━━━━━━━━━━━━━━━━┓\n",
       "┃\u001b[1m \u001b[0m\u001b[1mLayer (type)                        \u001b[0m\u001b[1m \u001b[0m┃\u001b[1m \u001b[0m\u001b[1mOutput Shape               \u001b[0m\u001b[1m \u001b[0m┃\u001b[1m \u001b[0m\u001b[1m        Param #\u001b[0m\u001b[1m \u001b[0m┃\n",
       "┡━━━━━━━━━━━━━━━━━━━━━━━━━━━━━━━━━━━━━━╇━━━━━━━━━━━━━━━━━━━━━━━━━━━━━╇━━━━━━━━━━━━━━━━━┩\n",
       "│ embedding (\u001b[38;5;33mEmbedding\u001b[0m)                │ (\u001b[38;5;34m50\u001b[0m, \u001b[38;5;34m100\u001b[0m, \u001b[38;5;34m64\u001b[0m)               │          \u001b[38;5;34m11,840\u001b[0m │\n",
       "├──────────────────────────────────────┼─────────────────────────────┼─────────────────┤\n",
       "│ bidirectional (\u001b[38;5;33mBidirectional\u001b[0m)        │ (\u001b[38;5;34m50\u001b[0m, \u001b[38;5;34m256\u001b[0m)                   │         \u001b[38;5;34m197,632\u001b[0m │\n",
       "├──────────────────────────────────────┼─────────────────────────────┼─────────────────┤\n",
       "│ dropout (\u001b[38;5;33mDropout\u001b[0m)                    │ (\u001b[38;5;34m50\u001b[0m, \u001b[38;5;34m256\u001b[0m)                   │               \u001b[38;5;34m0\u001b[0m │\n",
       "├──────────────────────────────────────┼─────────────────────────────┼─────────────────┤\n",
       "│ dense (\u001b[38;5;33mDense\u001b[0m)                        │ (\u001b[38;5;34m50\u001b[0m, \u001b[38;5;34m64\u001b[0m)                    │          \u001b[38;5;34m16,448\u001b[0m │\n",
       "├──────────────────────────────────────┼─────────────────────────────┼─────────────────┤\n",
       "│ dropout_1 (\u001b[38;5;33mDropout\u001b[0m)                  │ (\u001b[38;5;34m50\u001b[0m, \u001b[38;5;34m64\u001b[0m)                    │               \u001b[38;5;34m0\u001b[0m │\n",
       "├──────────────────────────────────────┼─────────────────────────────┼─────────────────┤\n",
       "│ dense_1 (\u001b[38;5;33mDense\u001b[0m)                      │ (\u001b[38;5;34m50\u001b[0m, \u001b[38;5;34m4\u001b[0m)                     │             \u001b[38;5;34m260\u001b[0m │\n",
       "└──────────────────────────────────────┴─────────────────────────────┴─────────────────┘\n"
      ]
     },
     "metadata": {},
     "output_type": "display_data"
    },
    {
     "data": {
      "text/html": [
       "<pre style=\"white-space:pre;overflow-x:auto;line-height:normal;font-family:Menlo,'DejaVu Sans Mono',consolas,'Courier New',monospace\"><span style=\"font-weight: bold\"> Total params: </span><span style=\"color: #00af00; text-decoration-color: #00af00\">678,542</span> (2.59 MB)\n",
       "</pre>\n"
      ],
      "text/plain": [
       "\u001b[1m Total params: \u001b[0m\u001b[38;5;34m678,542\u001b[0m (2.59 MB)\n"
      ]
     },
     "metadata": {},
     "output_type": "display_data"
    },
    {
     "data": {
      "text/html": [
       "<pre style=\"white-space:pre;overflow-x:auto;line-height:normal;font-family:Menlo,'DejaVu Sans Mono',consolas,'Courier New',monospace\"><span style=\"font-weight: bold\"> Trainable params: </span><span style=\"color: #00af00; text-decoration-color: #00af00\">226,180</span> (883.52 KB)\n",
       "</pre>\n"
      ],
      "text/plain": [
       "\u001b[1m Trainable params: \u001b[0m\u001b[38;5;34m226,180\u001b[0m (883.52 KB)\n"
      ]
     },
     "metadata": {},
     "output_type": "display_data"
    },
    {
     "data": {
      "text/html": [
       "<pre style=\"white-space:pre;overflow-x:auto;line-height:normal;font-family:Menlo,'DejaVu Sans Mono',consolas,'Courier New',monospace\"><span style=\"font-weight: bold\"> Non-trainable params: </span><span style=\"color: #00af00; text-decoration-color: #00af00\">0</span> (0.00 B)\n",
       "</pre>\n"
      ],
      "text/plain": [
       "\u001b[1m Non-trainable params: \u001b[0m\u001b[38;5;34m0\u001b[0m (0.00 B)\n"
      ]
     },
     "metadata": {},
     "output_type": "display_data"
    },
    {
     "data": {
      "text/html": [
       "<pre style=\"white-space:pre;overflow-x:auto;line-height:normal;font-family:Menlo,'DejaVu Sans Mono',consolas,'Courier New',monospace\"><span style=\"font-weight: bold\"> Optimizer params: </span><span style=\"color: #00af00; text-decoration-color: #00af00\">452,362</span> (1.73 MB)\n",
       "</pre>\n"
      ],
      "text/plain": [
       "\u001b[1m Optimizer params: \u001b[0m\u001b[38;5;34m452,362\u001b[0m (1.73 MB)\n"
      ]
     },
     "metadata": {},
     "output_type": "display_data"
    },
    {
     "name": "stdout",
     "output_type": "stream",
     "text": [
      "\u001b[1m47/47\u001b[0m \u001b[32m━━━━━━━━━━━━━━━━━━━━\u001b[0m\u001b[37m\u001b[0m \u001b[1m2s\u001b[0m 27ms/step - accuracy: 1.0000 - loss: 1.8735e-09\n",
      "Test Accuracy: 1.0000000000\n"
     ]
    }
   ],
   "source": [
    "model.summary()\n",
    "loss, acc = model.evaluate(X_test_pad, y_test)\n",
    "print(f\"Test Accuracy: {acc:.10f}\")"
   ]
  },
  {
   "cell_type": "markdown",
   "id": "13e32702-4db6-4a71-8457-9969c2d61122",
   "metadata": {},
   "source": [
    "## User Input Testing"
   ]
  },
  {
   "cell_type": "code",
   "execution_count": 100,
   "id": "cde4a09c-52bd-4edc-80ba-d2633728bcf4",
   "metadata": {},
   "outputs": [],
   "source": [
    "user_input = \"justify why civilisations around the world created monuments resulting in\""
   ]
  },
  {
   "cell_type": "code",
   "execution_count": 102,
   "id": "31376659-ea8b-449f-96f7-df881cf91dae",
   "metadata": {},
   "outputs": [
    {
     "name": "stdout",
     "output_type": "stream",
     "text": [
      "(1, 100)\n"
     ]
    }
   ],
   "source": [
    "user_input_clean = dataCleaning(user_input)\n",
    "seq = tokenizer.texts_to_sequences([user_input_clean])\n",
    "padding = pad_sequences(seq, maxlen=100, padding='post')\n",
    "print(padding.shape)"
   ]
  },
  {
   "cell_type": "code",
   "execution_count": 104,
   "id": "e1744da8-bab8-4bad-a696-ccfc914bee4a",
   "metadata": {},
   "outputs": [
    {
     "name": "stdout",
     "output_type": "stream",
     "text": [
      "\u001b[1m1/1\u001b[0m \u001b[32m━━━━━━━━━━━━━━━━━━━━\u001b[0m\u001b[37m\u001b[0m \u001b[1m0s\u001b[0m 64ms/step\n",
      "Predicted Subject: Science\n",
      "Confidence: 0.99\n"
     ]
    }
   ],
   "source": [
    "pred = model.predict(padding)\n",
    "predicted_class_index = np.argmax(pred)\n",
    "label_map = {0: 'English', 1: 'History', 2: 'Maths', 3: 'Science'}\n",
    "predicted_label = label_map[predicted_class_index]\n",
    "print(f\"Predicted Subject: {predicted_label}\")\n",
    "confidence = np.max(pred)\n",
    "print(f\"Confidence: {confidence:.2f}\")"
   ]
  },
  {
   "cell_type": "markdown",
   "id": "0b2b7046-a8bc-4cbf-81af-b1f39f2295f0",
   "metadata": {},
   "source": [
    "# AutoCompleate Model"
   ]
  },
  {
   "cell_type": "code",
   "execution_count": 11,
   "id": "30b5d638-a9fb-450b-84f0-2fd05aab29e6",
   "metadata": {},
   "outputs": [],
   "source": [
    "# Cleaning Text data using RegEx\n",
    "def clean_text(text):\n",
    "    if not isinstance(text, str):\n",
    "        return \"\"\n",
    "\n",
    "    text = text.lower()  # Convert to lowercase\n",
    "\n",
    "    # Remove brackets only\n",
    "    text = re.sub(r\"[\\[\\]\\(\\)]\", \"\", text)\n",
    "\n",
    "    # Remove all characters except letters, numbers, spaces, and hyphens\n",
    "    text = re.sub(r\"[^a-z0-9\\s\\-]\", \"\", text)\n",
    "\n",
    "    # Remove extra spaces\n",
    "    text = re.sub(r\"\\s+\", \" \", text).strip()\n",
    "\n",
    "    return text"
   ]
  },
  {
   "cell_type": "code",
   "execution_count": 15,
   "id": "3b8022bf-be19-4cd4-9b4c-b7af21aaa11f",
   "metadata": {},
   "outputs": [],
   "source": [
    "def combine_cleaned_text(row):\n",
    "    return f\"{row['heading_clean']} {row['subheading_clean']} {row['sentence_clean']}\".strip()"
   ]
  },
  {
   "cell_type": "code",
   "execution_count": 13,
   "id": "276d0266-056b-4b6e-8dc8-782c67769da0",
   "metadata": {},
   "outputs": [],
   "source": [
    "# Generate text function for user input\n",
    "def generate_text(seed_text, next_words, model, tokenizer, max_sequence_len):\n",
    "    for _ in range(next_words):\n",
    "        token_list = tokenizer.texts_to_sequences([seed_text])[0]\n",
    "        token_list = pad_sequences([token_list], maxlen=max_sequence_len-1, padding='pre')\n",
    "        predicted_probs = model.predict(token_list, verbose=0)\n",
    "        predicted_index = np.argmax(predicted_probs, axis=-1)[0]\n",
    "\n",
    "        # Convert predicted index to word\n",
    "        output_word = ''\n",
    "        for word, index in tokenizer.word_index.items():\n",
    "            if index == predicted_index:\n",
    "                output_word = word\n",
    "                break\n",
    "\n",
    "        seed_text += \" \" + output_word\n",
    "    return seed_text"
   ]
  },
  {
   "cell_type": "markdown",
   "id": "0eff7367-f5d3-49e1-bed6-f7dee77e63cc",
   "metadata": {},
   "source": [
    "## Creating the CSV file"
   ]
  },
  {
   "cell_type": "code",
   "execution_count": 12,
   "id": "4f17803e-ae91-4268-894d-ac1f6e9e863b",
   "metadata": {},
   "outputs": [],
   "source": [
    "with open(\"word_prediction.txt\", 'r', encoding='utf-8') as file:\n",
    "    lines = file.readlines()"
   ]
  },
  {
   "cell_type": "code",
   "execution_count": 8,
   "id": "2dd73299-23e3-4710-befe-4a4caca09273",
   "metadata": {},
   "outputs": [],
   "source": [
    "data = []\n",
    "current_heading = \"\"\n",
    "current_subheading = \"\"\n",
    "paragraph = \"\""
   ]
  },
  {
   "cell_type": "code",
   "execution_count": 18,
   "id": "37216aba-0c84-4ca2-b183-8b2f2bfe7e5a",
   "metadata": {},
   "outputs": [],
   "source": [
    "for line in lines:\n",
    "    line = line.strip()\n",
    "    if not line:\n",
    "        continue  # Skip empty lines\n",
    "    elif line.startswith(\"## \"):\n",
    "        current_heading = line.replace(\"## \", \"\").strip()\n",
    "        current_subheading = \"\"\n",
    "    elif line.startswith(\"### \"):\n",
    "        current_subheading = line.replace(\"### \", \"\").strip()\n",
    "    else:\n",
    "        # Treat as paragraph text\n",
    "        sentences = sent_tokenize(line)\n",
    "        for sentence in sentences:\n",
    "            data.append([current_heading, current_subheading, sentence.strip()])\n",
    "\n",
    "# Write to CSV\n",
    "with open(\"history.csv\", \"w\", newline=\"\", encoding=\"utf-8\") as csvfile:\n",
    "    writer = csv.writer(csvfile)\n",
    "    writer.writerow([\"heading\", \"subheading\", \"sentence\"])\n",
    "    writer.writerows(data)"
   ]
  },
  {
   "cell_type": "markdown",
   "id": "79a62444-cf39-4203-9e21-13e799e6f8cb",
   "metadata": {},
   "source": [
    "## Cleaning the CSV file"
   ]
  },
  {
   "cell_type": "code",
   "execution_count": 19,
   "id": "5ddea427-dc79-46d0-bc19-2c868ecd0f38",
   "metadata": {},
   "outputs": [],
   "source": [
    "sentenceComplete = pd.read_csv(\"history.csv\")"
   ]
  },
  {
   "cell_type": "code",
   "execution_count": 21,
   "id": "63fac204-1633-4f8c-b2ca-1db699200aaa",
   "metadata": {
    "scrolled": true
   },
   "outputs": [],
   "source": [
    "sentenceComplete['sentence_clean'] = sentenceComplete['sentence'].apply(clean_text)\n",
    "sentenceComplete['heading_clean'] = sentenceComplete['heading'].apply(clean_text)\n",
    "sentenceComplete['subheading_clean'] = sentenceComplete['subheading'].apply(clean_text)"
   ]
  },
  {
   "cell_type": "code",
   "execution_count": 23,
   "id": "c4572298-9cce-4c52-8d9e-d00c802be993",
   "metadata": {
    "scrolled": true
   },
   "outputs": [
    {
     "data": {
      "text/html": [
       "<div>\n",
       "<style scoped>\n",
       "    .dataframe tbody tr th:only-of-type {\n",
       "        vertical-align: middle;\n",
       "    }\n",
       "\n",
       "    .dataframe tbody tr th {\n",
       "        vertical-align: top;\n",
       "    }\n",
       "\n",
       "    .dataframe thead th {\n",
       "        text-align: right;\n",
       "    }\n",
       "</style>\n",
       "<table border=\"1\" class=\"dataframe\">\n",
       "  <thead>\n",
       "    <tr style=\"text-align: right;\">\n",
       "      <th></th>\n",
       "      <th>heading</th>\n",
       "      <th>subheading</th>\n",
       "      <th>sentence</th>\n",
       "      <th>sentence_clean</th>\n",
       "      <th>heading_clean</th>\n",
       "      <th>subheading_clean</th>\n",
       "    </tr>\n",
       "  </thead>\n",
       "  <tbody>\n",
       "    <tr>\n",
       "      <th>0</th>\n",
       "      <td>Early Civilizations and the Indus Valley (3300...</td>\n",
       "      <td>Introduction</td>\n",
       "      <td>The Indus Valley Civilization is considered on...</td>\n",
       "      <td>the indus valley civilization is considered on...</td>\n",
       "      <td>early civilizations and the indus valley 3300 ...</td>\n",
       "      <td>introduction</td>\n",
       "    </tr>\n",
       "    <tr>\n",
       "      <th>1</th>\n",
       "      <td>Early Civilizations and the Indus Valley (3300...</td>\n",
       "      <td>Introduction</td>\n",
       "      <td>Flourishing between 3300 BCE and 1300 BCE, it ...</td>\n",
       "      <td>flourishing between 3300 bce and 1300 bce it c...</td>\n",
       "      <td>early civilizations and the indus valley 3300 ...</td>\n",
       "      <td>introduction</td>\n",
       "    </tr>\n",
       "    <tr>\n",
       "      <th>2</th>\n",
       "      <td>Early Civilizations and the Indus Valley (3300...</td>\n",
       "      <td>Introduction</td>\n",
       "      <td>Often referred to as the Harappan Civilization...</td>\n",
       "      <td>often referred to as the harappan civilization...</td>\n",
       "      <td>early civilizations and the indus valley 3300 ...</td>\n",
       "      <td>introduction</td>\n",
       "    </tr>\n",
       "    <tr>\n",
       "      <th>3</th>\n",
       "      <td>Early Civilizations and the Indus Valley (3300...</td>\n",
       "      <td>Introduction</td>\n",
       "      <td>Spanning an area of approximately 1.25 million...</td>\n",
       "      <td>spanning an area of approximately 125 million ...</td>\n",
       "      <td>early civilizations and the indus valley 3300 ...</td>\n",
       "      <td>introduction</td>\n",
       "    </tr>\n",
       "    <tr>\n",
       "      <th>4</th>\n",
       "      <td>Early Civilizations and the Indus Valley (3300...</td>\n",
       "      <td>Geographic Spread and Major Cities</td>\n",
       "      <td>The civilization spread across the vast plains...</td>\n",
       "      <td>the civilization spread across the vast plains...</td>\n",
       "      <td>early civilizations and the indus valley 3300 ...</td>\n",
       "      <td>geographic spread and major cities</td>\n",
       "    </tr>\n",
       "    <tr>\n",
       "      <th>5</th>\n",
       "      <td>Early Civilizations and the Indus Valley (3300...</td>\n",
       "      <td>Geographic Spread and Major Cities</td>\n",
       "      <td>Major urban centers such as Harappa, Mohenjo-D...</td>\n",
       "      <td>major urban centers such as harappa mohenjo-da...</td>\n",
       "      <td>early civilizations and the indus valley 3300 ...</td>\n",
       "      <td>geographic spread and major cities</td>\n",
       "    </tr>\n",
       "    <tr>\n",
       "      <th>6</th>\n",
       "      <td>Early Civilizations and the Indus Valley (3300...</td>\n",
       "      <td>Geographic Spread and Major Cities</td>\n",
       "      <td>These cities were strategically situated near ...</td>\n",
       "      <td>these cities were strategically situated near ...</td>\n",
       "      <td>early civilizations and the indus valley 3300 ...</td>\n",
       "      <td>geographic spread and major cities</td>\n",
       "    </tr>\n",
       "    <tr>\n",
       "      <th>7</th>\n",
       "      <td>Early Civilizations and the Indus Valley (3300...</td>\n",
       "      <td>Geographic Spread and Major Cities</td>\n",
       "      <td>The Indus and its tributaries created an ideal...</td>\n",
       "      <td>the indus and its tributaries created an ideal...</td>\n",
       "      <td>early civilizations and the indus valley 3300 ...</td>\n",
       "      <td>geographic spread and major cities</td>\n",
       "    </tr>\n",
       "    <tr>\n",
       "      <th>8</th>\n",
       "      <td>Early Civilizations and the Indus Valley (3300...</td>\n",
       "      <td>Geographic Spread and Major Cities</td>\n",
       "      <td>Harappa and Mohenjo-Daro are the two best-know...</td>\n",
       "      <td>harappa and mohenjo-daro are the two best-know...</td>\n",
       "      <td>early civilizations and the indus valley 3300 ...</td>\n",
       "      <td>geographic spread and major cities</td>\n",
       "    </tr>\n",
       "    <tr>\n",
       "      <th>9</th>\n",
       "      <td>Early Civilizations and the Indus Valley (3300...</td>\n",
       "      <td>Geographic Spread and Major Cities</td>\n",
       "      <td>Both cities were meticulously planned, featuri...</td>\n",
       "      <td>both cities were meticulously planned featurin...</td>\n",
       "      <td>early civilizations and the indus valley 3300 ...</td>\n",
       "      <td>geographic spread and major cities</td>\n",
       "    </tr>\n",
       "    <tr>\n",
       "      <th>10</th>\n",
       "      <td>Early Civilizations and the Indus Valley (3300...</td>\n",
       "      <td>Geographic Spread and Major Cities</td>\n",
       "      <td>Notably, Mohenjo-Daro was home to a central st...</td>\n",
       "      <td>notably mohenjo-daro was home to a central str...</td>\n",
       "      <td>early civilizations and the indus valley 3300 ...</td>\n",
       "      <td>geographic spread and major cities</td>\n",
       "    </tr>\n",
       "    <tr>\n",
       "      <th>11</th>\n",
       "      <td>Early Civilizations and the Indus Valley (3300...</td>\n",
       "      <td>Geographic Spread and Major Cities</td>\n",
       "      <td>This level of urban planning suggests that the...</td>\n",
       "      <td>this level of urban planning suggests that the...</td>\n",
       "      <td>early civilizations and the indus valley 3300 ...</td>\n",
       "      <td>geographic spread and major cities</td>\n",
       "    </tr>\n",
       "    <tr>\n",
       "      <th>12</th>\n",
       "      <td>Early Civilizations and the Indus Valley (3300...</td>\n",
       "      <td>Urban Planning and Architecture</td>\n",
       "      <td>One of the most remarkable achievements of the...</td>\n",
       "      <td>one of the most remarkable achievements of the...</td>\n",
       "      <td>early civilizations and the indus valley 3300 ...</td>\n",
       "      <td>urban planning and architecture</td>\n",
       "    </tr>\n",
       "    <tr>\n",
       "      <th>13</th>\n",
       "      <td>Early Civilizations and the Indus Valley (3300...</td>\n",
       "      <td>Urban Planning and Architecture</td>\n",
       "      <td>The cities, especially Harappa and Mohenjo-Dar...</td>\n",
       "      <td>the cities especially harappa and mohenjo-daro...</td>\n",
       "      <td>early civilizations and the indus valley 3300 ...</td>\n",
       "      <td>urban planning and architecture</td>\n",
       "    </tr>\n",
       "    <tr>\n",
       "      <th>14</th>\n",
       "      <td>Early Civilizations and the Indus Valley (3300...</td>\n",
       "      <td>Urban Planning and Architecture</td>\n",
       "      <td>The buildings were constructed using uniformly...</td>\n",
       "      <td>the buildings were constructed using uniformly...</td>\n",
       "      <td>early civilizations and the indus valley 3300 ...</td>\n",
       "      <td>urban planning and architecture</td>\n",
       "    </tr>\n",
       "    <tr>\n",
       "      <th>15</th>\n",
       "      <td>Early Civilizations and the Indus Valley (3300...</td>\n",
       "      <td>Urban Planning and Architecture</td>\n",
       "      <td>This uniformity indicates a highly centralized...</td>\n",
       "      <td>this uniformity indicates a highly centralized...</td>\n",
       "      <td>early civilizations and the indus valley 3300 ...</td>\n",
       "      <td>urban planning and architecture</td>\n",
       "    </tr>\n",
       "    <tr>\n",
       "      <th>16</th>\n",
       "      <td>Early Civilizations and the Indus Valley (3300...</td>\n",
       "      <td>Urban Planning and Architecture</td>\n",
       "      <td>Another impressive feature was the drainage sy...</td>\n",
       "      <td>another impressive feature was the drainage sy...</td>\n",
       "      <td>early civilizations and the indus valley 3300 ...</td>\n",
       "      <td>urban planning and architecture</td>\n",
       "    </tr>\n",
       "    <tr>\n",
       "      <th>17</th>\n",
       "      <td>Early Civilizations and the Indus Valley (3300...</td>\n",
       "      <td>Urban Planning and Architecture</td>\n",
       "      <td>This suggests a sophisticated understanding of...</td>\n",
       "      <td>this suggests a sophisticated understanding of...</td>\n",
       "      <td>early civilizations and the indus valley 3300 ...</td>\n",
       "      <td>urban planning and architecture</td>\n",
       "    </tr>\n",
       "    <tr>\n",
       "      <th>18</th>\n",
       "      <td>Early Civilizations and the Indus Valley (3300...</td>\n",
       "      <td>Urban Planning and Architecture</td>\n",
       "      <td>Many homes had private bathrooms that emptied ...</td>\n",
       "      <td>many homes had private bathrooms that emptied ...</td>\n",
       "      <td>early civilizations and the indus valley 3300 ...</td>\n",
       "      <td>urban planning and architecture</td>\n",
       "    </tr>\n",
       "    <tr>\n",
       "      <th>19</th>\n",
       "      <td>Early Civilizations and the Indus Valley (3300...</td>\n",
       "      <td>Economy and Trade</td>\n",
       "      <td>The economy of the Indus Valley Civilization w...</td>\n",
       "      <td>the economy of the indus valley civilization w...</td>\n",
       "      <td>early civilizations and the indus valley 3300 ...</td>\n",
       "      <td>economy and trade</td>\n",
       "    </tr>\n",
       "  </tbody>\n",
       "</table>\n",
       "</div>"
      ],
      "text/plain": [
       "                                              heading  \\\n",
       "0   Early Civilizations and the Indus Valley (3300...   \n",
       "1   Early Civilizations and the Indus Valley (3300...   \n",
       "2   Early Civilizations and the Indus Valley (3300...   \n",
       "3   Early Civilizations and the Indus Valley (3300...   \n",
       "4   Early Civilizations and the Indus Valley (3300...   \n",
       "5   Early Civilizations and the Indus Valley (3300...   \n",
       "6   Early Civilizations and the Indus Valley (3300...   \n",
       "7   Early Civilizations and the Indus Valley (3300...   \n",
       "8   Early Civilizations and the Indus Valley (3300...   \n",
       "9   Early Civilizations and the Indus Valley (3300...   \n",
       "10  Early Civilizations and the Indus Valley (3300...   \n",
       "11  Early Civilizations and the Indus Valley (3300...   \n",
       "12  Early Civilizations and the Indus Valley (3300...   \n",
       "13  Early Civilizations and the Indus Valley (3300...   \n",
       "14  Early Civilizations and the Indus Valley (3300...   \n",
       "15  Early Civilizations and the Indus Valley (3300...   \n",
       "16  Early Civilizations and the Indus Valley (3300...   \n",
       "17  Early Civilizations and the Indus Valley (3300...   \n",
       "18  Early Civilizations and the Indus Valley (3300...   \n",
       "19  Early Civilizations and the Indus Valley (3300...   \n",
       "\n",
       "                            subheading  \\\n",
       "0                         Introduction   \n",
       "1                         Introduction   \n",
       "2                         Introduction   \n",
       "3                         Introduction   \n",
       "4   Geographic Spread and Major Cities   \n",
       "5   Geographic Spread and Major Cities   \n",
       "6   Geographic Spread and Major Cities   \n",
       "7   Geographic Spread and Major Cities   \n",
       "8   Geographic Spread and Major Cities   \n",
       "9   Geographic Spread and Major Cities   \n",
       "10  Geographic Spread and Major Cities   \n",
       "11  Geographic Spread and Major Cities   \n",
       "12     Urban Planning and Architecture   \n",
       "13     Urban Planning and Architecture   \n",
       "14     Urban Planning and Architecture   \n",
       "15     Urban Planning and Architecture   \n",
       "16     Urban Planning and Architecture   \n",
       "17     Urban Planning and Architecture   \n",
       "18     Urban Planning and Architecture   \n",
       "19                   Economy and Trade   \n",
       "\n",
       "                                             sentence  \\\n",
       "0   The Indus Valley Civilization is considered on...   \n",
       "1   Flourishing between 3300 BCE and 1300 BCE, it ...   \n",
       "2   Often referred to as the Harappan Civilization...   \n",
       "3   Spanning an area of approximately 1.25 million...   \n",
       "4   The civilization spread across the vast plains...   \n",
       "5   Major urban centers such as Harappa, Mohenjo-D...   \n",
       "6   These cities were strategically situated near ...   \n",
       "7   The Indus and its tributaries created an ideal...   \n",
       "8   Harappa and Mohenjo-Daro are the two best-know...   \n",
       "9   Both cities were meticulously planned, featuri...   \n",
       "10  Notably, Mohenjo-Daro was home to a central st...   \n",
       "11  This level of urban planning suggests that the...   \n",
       "12  One of the most remarkable achievements of the...   \n",
       "13  The cities, especially Harappa and Mohenjo-Dar...   \n",
       "14  The buildings were constructed using uniformly...   \n",
       "15  This uniformity indicates a highly centralized...   \n",
       "16  Another impressive feature was the drainage sy...   \n",
       "17  This suggests a sophisticated understanding of...   \n",
       "18  Many homes had private bathrooms that emptied ...   \n",
       "19  The economy of the Indus Valley Civilization w...   \n",
       "\n",
       "                                       sentence_clean  \\\n",
       "0   the indus valley civilization is considered on...   \n",
       "1   flourishing between 3300 bce and 1300 bce it c...   \n",
       "2   often referred to as the harappan civilization...   \n",
       "3   spanning an area of approximately 125 million ...   \n",
       "4   the civilization spread across the vast plains...   \n",
       "5   major urban centers such as harappa mohenjo-da...   \n",
       "6   these cities were strategically situated near ...   \n",
       "7   the indus and its tributaries created an ideal...   \n",
       "8   harappa and mohenjo-daro are the two best-know...   \n",
       "9   both cities were meticulously planned featurin...   \n",
       "10  notably mohenjo-daro was home to a central str...   \n",
       "11  this level of urban planning suggests that the...   \n",
       "12  one of the most remarkable achievements of the...   \n",
       "13  the cities especially harappa and mohenjo-daro...   \n",
       "14  the buildings were constructed using uniformly...   \n",
       "15  this uniformity indicates a highly centralized...   \n",
       "16  another impressive feature was the drainage sy...   \n",
       "17  this suggests a sophisticated understanding of...   \n",
       "18  many homes had private bathrooms that emptied ...   \n",
       "19  the economy of the indus valley civilization w...   \n",
       "\n",
       "                                        heading_clean  \\\n",
       "0   early civilizations and the indus valley 3300 ...   \n",
       "1   early civilizations and the indus valley 3300 ...   \n",
       "2   early civilizations and the indus valley 3300 ...   \n",
       "3   early civilizations and the indus valley 3300 ...   \n",
       "4   early civilizations and the indus valley 3300 ...   \n",
       "5   early civilizations and the indus valley 3300 ...   \n",
       "6   early civilizations and the indus valley 3300 ...   \n",
       "7   early civilizations and the indus valley 3300 ...   \n",
       "8   early civilizations and the indus valley 3300 ...   \n",
       "9   early civilizations and the indus valley 3300 ...   \n",
       "10  early civilizations and the indus valley 3300 ...   \n",
       "11  early civilizations and the indus valley 3300 ...   \n",
       "12  early civilizations and the indus valley 3300 ...   \n",
       "13  early civilizations and the indus valley 3300 ...   \n",
       "14  early civilizations and the indus valley 3300 ...   \n",
       "15  early civilizations and the indus valley 3300 ...   \n",
       "16  early civilizations and the indus valley 3300 ...   \n",
       "17  early civilizations and the indus valley 3300 ...   \n",
       "18  early civilizations and the indus valley 3300 ...   \n",
       "19  early civilizations and the indus valley 3300 ...   \n",
       "\n",
       "                      subheading_clean  \n",
       "0                         introduction  \n",
       "1                         introduction  \n",
       "2                         introduction  \n",
       "3                         introduction  \n",
       "4   geographic spread and major cities  \n",
       "5   geographic spread and major cities  \n",
       "6   geographic spread and major cities  \n",
       "7   geographic spread and major cities  \n",
       "8   geographic spread and major cities  \n",
       "9   geographic spread and major cities  \n",
       "10  geographic spread and major cities  \n",
       "11  geographic spread and major cities  \n",
       "12     urban planning and architecture  \n",
       "13     urban planning and architecture  \n",
       "14     urban planning and architecture  \n",
       "15     urban planning and architecture  \n",
       "16     urban planning and architecture  \n",
       "17     urban planning and architecture  \n",
       "18     urban planning and architecture  \n",
       "19                   economy and trade  "
      ]
     },
     "execution_count": 23,
     "metadata": {},
     "output_type": "execute_result"
    }
   ],
   "source": [
    "sentenceComplete.head(20)"
   ]
  },
  {
   "cell_type": "code",
   "execution_count": 25,
   "id": "6c0459b8-0e88-4bdf-9ec8-e8a0219f568f",
   "metadata": {},
   "outputs": [],
   "source": [
    "sentenceComplete['full_text'] = sentenceComplete.apply(combine_cleaned_text, axis=1)"
   ]
  },
  {
   "cell_type": "markdown",
   "id": "215dcd81-be04-4588-9973-92ea8e7fd634",
   "metadata": {},
   "source": [
    "## Tokenizer and Padding"
   ]
  },
  {
   "cell_type": "code",
   "execution_count": 28,
   "id": "28ddf002-a8f3-4007-8092-66ae3e0afda2",
   "metadata": {},
   "outputs": [],
   "source": [
    "tokenizer = Tokenizer(oov_token='<OOV>')\n",
    "tokenizer.fit_on_texts(sentenceComplete['full_text'])"
   ]
  },
  {
   "cell_type": "code",
   "execution_count": 30,
   "id": "e5bbb128-ea63-4135-8ecb-41cb1d3643a5",
   "metadata": {},
   "outputs": [
    {
     "name": "stdout",
     "output_type": "stream",
     "text": [
      "2427\n"
     ]
    }
   ],
   "source": [
    "vocab_size = len(tokenizer.word_index) + 1\n",
    "print(vocab_size)"
   ]
  },
  {
   "cell_type": "code",
   "execution_count": 32,
   "id": "5e9fdcc7-db6d-470d-8106-779e40e6a752",
   "metadata": {},
   "outputs": [],
   "source": [
    "text_sequence = tokenizer.texts_to_sequences(sentenceComplete['full_text'])"
   ]
  },
  {
   "cell_type": "code",
   "execution_count": 34,
   "id": "2583c466-dd9c-432a-b940-6d77e5d988e9",
   "metadata": {},
   "outputs": [],
   "source": [
    "input_sequence = []\n",
    "\n",
    "for seq in text_sequence:\n",
    "    for i in range(1, len(seq)):\n",
    "        n_gram_sequence = seq[:i+1]\n",
    "        input_sequence.append(n_gram_sequence)"
   ]
  },
  {
   "cell_type": "code",
   "execution_count": 36,
   "id": "0badb9f1-87de-4f4b-9981-0e646687881d",
   "metadata": {},
   "outputs": [],
   "source": [
    "max_seq_len = max(len(x) for x in input_sequence)\n",
    "\n",
    "input_sequences = pad_sequences(input_sequence, maxlen=max_seq_len, padding='pre')"
   ]
  },
  {
   "cell_type": "code",
   "execution_count": 38,
   "id": "d79be1f4-9384-4277-b7a3-f9c29ac10131",
   "metadata": {},
   "outputs": [],
   "source": [
    "input_sequences = np.array(input_sequences)\n",
    "X, y = input_sequences[:, :-1], input_sequences[:, -1]"
   ]
  },
  {
   "cell_type": "code",
   "execution_count": 40,
   "id": "c14236ee-df69-4ba2-b4d1-2ec35ba537f3",
   "metadata": {},
   "outputs": [
    {
     "name": "stderr",
     "output_type": "stream",
     "text": [
      "C:\\Users\\Shubham\\anaconda3\\envs\\nlp_env\\lib\\site-packages\\keras\\src\\layers\\core\\embedding.py:90: UserWarning: Argument `input_length` is deprecated. Just remove it.\n",
      "  warnings.warn(\n"
     ]
    },
    {
     "data": {
      "text/html": [
       "<pre style=\"white-space:pre;overflow-x:auto;line-height:normal;font-family:Menlo,'DejaVu Sans Mono',consolas,'Courier New',monospace\"><span style=\"font-weight: bold\">Model: \"sequential\"</span>\n",
       "</pre>\n"
      ],
      "text/plain": [
       "\u001b[1mModel: \"sequential\"\u001b[0m\n"
      ]
     },
     "metadata": {},
     "output_type": "display_data"
    },
    {
     "data": {
      "text/html": [
       "<pre style=\"white-space:pre;overflow-x:auto;line-height:normal;font-family:Menlo,'DejaVu Sans Mono',consolas,'Courier New',monospace\">┏━━━━━━━━━━━━━━━━━━━━━━━━━━━━━━━━━━━━━━┳━━━━━━━━━━━━━━━━━━━━━━━━━━━━━┳━━━━━━━━━━━━━━━━━┓\n",
       "┃<span style=\"font-weight: bold\"> Layer (type)                         </span>┃<span style=\"font-weight: bold\"> Output Shape                </span>┃<span style=\"font-weight: bold\">         Param # </span>┃\n",
       "┡━━━━━━━━━━━━━━━━━━━━━━━━━━━━━━━━━━━━━━╇━━━━━━━━━━━━━━━━━━━━━━━━━━━━━╇━━━━━━━━━━━━━━━━━┩\n",
       "│ embedding (<span style=\"color: #0087ff; text-decoration-color: #0087ff\">Embedding</span>)                │ ?                           │     <span style=\"color: #00af00; text-decoration-color: #00af00\">0</span> (unbuilt) │\n",
       "├──────────────────────────────────────┼─────────────────────────────┼─────────────────┤\n",
       "│ bidirectional (<span style=\"color: #0087ff; text-decoration-color: #0087ff\">Bidirectional</span>)        │ ?                           │     <span style=\"color: #00af00; text-decoration-color: #00af00\">0</span> (unbuilt) │\n",
       "├──────────────────────────────────────┼─────────────────────────────┼─────────────────┤\n",
       "│ dropout (<span style=\"color: #0087ff; text-decoration-color: #0087ff\">Dropout</span>)                    │ ?                           │               <span style=\"color: #00af00; text-decoration-color: #00af00\">0</span> │\n",
       "├──────────────────────────────────────┼─────────────────────────────┼─────────────────┤\n",
       "│ bidirectional_1 (<span style=\"color: #0087ff; text-decoration-color: #0087ff\">Bidirectional</span>)      │ ?                           │     <span style=\"color: #00af00; text-decoration-color: #00af00\">0</span> (unbuilt) │\n",
       "├──────────────────────────────────────┼─────────────────────────────┼─────────────────┤\n",
       "│ dropout_1 (<span style=\"color: #0087ff; text-decoration-color: #0087ff\">Dropout</span>)                  │ ?                           │               <span style=\"color: #00af00; text-decoration-color: #00af00\">0</span> │\n",
       "├──────────────────────────────────────┼─────────────────────────────┼─────────────────┤\n",
       "│ dense (<span style=\"color: #0087ff; text-decoration-color: #0087ff\">Dense</span>)                        │ ?                           │     <span style=\"color: #00af00; text-decoration-color: #00af00\">0</span> (unbuilt) │\n",
       "└──────────────────────────────────────┴─────────────────────────────┴─────────────────┘\n",
       "</pre>\n"
      ],
      "text/plain": [
       "┏━━━━━━━━━━━━━━━━━━━━━━━━━━━━━━━━━━━━━━┳━━━━━━━━━━━━━━━━━━━━━━━━━━━━━┳━━━━━━━━━━━━━━━━━┓\n",
       "┃\u001b[1m \u001b[0m\u001b[1mLayer (type)                        \u001b[0m\u001b[1m \u001b[0m┃\u001b[1m \u001b[0m\u001b[1mOutput Shape               \u001b[0m\u001b[1m \u001b[0m┃\u001b[1m \u001b[0m\u001b[1m        Param #\u001b[0m\u001b[1m \u001b[0m┃\n",
       "┡━━━━━━━━━━━━━━━━━━━━━━━━━━━━━━━━━━━━━━╇━━━━━━━━━━━━━━━━━━━━━━━━━━━━━╇━━━━━━━━━━━━━━━━━┩\n",
       "│ embedding (\u001b[38;5;33mEmbedding\u001b[0m)                │ ?                           │     \u001b[38;5;34m0\u001b[0m (unbuilt) │\n",
       "├──────────────────────────────────────┼─────────────────────────────┼─────────────────┤\n",
       "│ bidirectional (\u001b[38;5;33mBidirectional\u001b[0m)        │ ?                           │     \u001b[38;5;34m0\u001b[0m (unbuilt) │\n",
       "├──────────────────────────────────────┼─────────────────────────────┼─────────────────┤\n",
       "│ dropout (\u001b[38;5;33mDropout\u001b[0m)                    │ ?                           │               \u001b[38;5;34m0\u001b[0m │\n",
       "├──────────────────────────────────────┼─────────────────────────────┼─────────────────┤\n",
       "│ bidirectional_1 (\u001b[38;5;33mBidirectional\u001b[0m)      │ ?                           │     \u001b[38;5;34m0\u001b[0m (unbuilt) │\n",
       "├──────────────────────────────────────┼─────────────────────────────┼─────────────────┤\n",
       "│ dropout_1 (\u001b[38;5;33mDropout\u001b[0m)                  │ ?                           │               \u001b[38;5;34m0\u001b[0m │\n",
       "├──────────────────────────────────────┼─────────────────────────────┼─────────────────┤\n",
       "│ dense (\u001b[38;5;33mDense\u001b[0m)                        │ ?                           │     \u001b[38;5;34m0\u001b[0m (unbuilt) │\n",
       "└──────────────────────────────────────┴─────────────────────────────┴─────────────────┘\n"
      ]
     },
     "metadata": {},
     "output_type": "display_data"
    },
    {
     "data": {
      "text/html": [
       "<pre style=\"white-space:pre;overflow-x:auto;line-height:normal;font-family:Menlo,'DejaVu Sans Mono',consolas,'Courier New',monospace\"><span style=\"font-weight: bold\"> Total params: </span><span style=\"color: #00af00; text-decoration-color: #00af00\">0</span> (0.00 B)\n",
       "</pre>\n"
      ],
      "text/plain": [
       "\u001b[1m Total params: \u001b[0m\u001b[38;5;34m0\u001b[0m (0.00 B)\n"
      ]
     },
     "metadata": {},
     "output_type": "display_data"
    },
    {
     "data": {
      "text/html": [
       "<pre style=\"white-space:pre;overflow-x:auto;line-height:normal;font-family:Menlo,'DejaVu Sans Mono',consolas,'Courier New',monospace\"><span style=\"font-weight: bold\"> Trainable params: </span><span style=\"color: #00af00; text-decoration-color: #00af00\">0</span> (0.00 B)\n",
       "</pre>\n"
      ],
      "text/plain": [
       "\u001b[1m Trainable params: \u001b[0m\u001b[38;5;34m0\u001b[0m (0.00 B)\n"
      ]
     },
     "metadata": {},
     "output_type": "display_data"
    },
    {
     "data": {
      "text/html": [
       "<pre style=\"white-space:pre;overflow-x:auto;line-height:normal;font-family:Menlo,'DejaVu Sans Mono',consolas,'Courier New',monospace\"><span style=\"font-weight: bold\"> Non-trainable params: </span><span style=\"color: #00af00; text-decoration-color: #00af00\">0</span> (0.00 B)\n",
       "</pre>\n"
      ],
      "text/plain": [
       "\u001b[1m Non-trainable params: \u001b[0m\u001b[38;5;34m0\u001b[0m (0.00 B)\n"
      ]
     },
     "metadata": {},
     "output_type": "display_data"
    }
   ],
   "source": [
    "model = Sequential([\n",
    "    Embedding(input_dim = vocab_size, output_dim=100, input_length = X.shape[1]),\n",
    "    Bidirectional(LSTM(150, return_sequences=True)),\n",
    "    Dropout(0.2),\n",
    "    Bidirectional(LSTM(100, return_sequences=False)),\n",
    "    Dropout(0.2),\n",
    "    Dense(vocab_size, activation='softmax')\n",
    "])\n",
    "model.compile(loss='sparse_categorical_crossentropy', optimizer='adam', metrics=['accuracy'])\n",
    "model.summary()"
   ]
  },
  {
   "cell_type": "code",
   "execution_count": null,
   "id": "e83c4a05-57f7-4d11-a469-5d69721ea5e7",
   "metadata": {
    "scrolled": true
   },
   "outputs": [
    {
     "name": "stdout",
     "output_type": "stream",
     "text": [
      "Epoch 1/30\n",
      "\u001b[1m1247/1247\u001b[0m \u001b[32m━━━━━━━━━━━━━━━━━━━━\u001b[0m\u001b[37m\u001b[0m \u001b[1m296s\u001b[0m 229ms/step - accuracy: 0.1285 - loss: 5.6653\n",
      "Epoch 2/30\n",
      "\u001b[1m1247/1247\u001b[0m \u001b[32m━━━━━━━━━━━━━━━━━━━━\u001b[0m\u001b[37m\u001b[0m \u001b[1m291s\u001b[0m 233ms/step - accuracy: 0.3262 - loss: 4.1539\n",
      "Epoch 3/30\n",
      "\u001b[1m1247/1247\u001b[0m \u001b[32m━━━━━━━━━━━━━━━━━━━━\u001b[0m\u001b[37m\u001b[0m \u001b[1m276s\u001b[0m 221ms/step - accuracy: 0.3853 - loss: 3.6654\n",
      "Epoch 4/30\n",
      "\u001b[1m1247/1247\u001b[0m \u001b[32m━━━━━━━━━━━━━━━━━━━━\u001b[0m\u001b[37m\u001b[0m \u001b[1m278s\u001b[0m 223ms/step - accuracy: 0.4169 - loss: 3.3329\n",
      "Epoch 5/30\n",
      "\u001b[1m1247/1247\u001b[0m \u001b[32m━━━━━━━━━━━━━━━━━━━━\u001b[0m\u001b[37m\u001b[0m \u001b[1m318s\u001b[0m 219ms/step - accuracy: 0.4492 - loss: 3.0555\n",
      "Epoch 6/30\n",
      "\u001b[1m1247/1247\u001b[0m \u001b[32m━━━━━━━━━━━━━━━━━━━━\u001b[0m\u001b[37m\u001b[0m \u001b[1m323s\u001b[0m 220ms/step - accuracy: 0.4653 - loss: 2.8487\n",
      "Epoch 7/30\n",
      "\u001b[1m1247/1247\u001b[0m \u001b[32m━━━━━━━━━━━━━━━━━━━━\u001b[0m\u001b[37m\u001b[0m \u001b[1m351s\u001b[0m 243ms/step - accuracy: 0.4899 - loss: 2.6118\n",
      "Epoch 8/30\n",
      "\u001b[1m1247/1247\u001b[0m \u001b[32m━━━━━━━━━━━━━━━━━━━━\u001b[0m\u001b[37m\u001b[0m \u001b[1m574s\u001b[0m 460ms/step - accuracy: 0.5042 - loss: 2.4374\n",
      "Epoch 9/30\n",
      "\u001b[1m1247/1247\u001b[0m \u001b[32m━━━━━━━━━━━━━━━━━━━━\u001b[0m\u001b[37m\u001b[0m \u001b[1m279s\u001b[0m 224ms/step - accuracy: 0.5284 - loss: 2.2289\n",
      "Epoch 10/30\n",
      "\u001b[1m1247/1247\u001b[0m \u001b[32m━━━━━━━━━━━━━━━━━━━━\u001b[0m\u001b[37m\u001b[0m \u001b[1m316s\u001b[0m 219ms/step - accuracy: 0.5450 - loss: 2.0800\n",
      "Epoch 11/30\n",
      "\u001b[1m1247/1247\u001b[0m \u001b[32m━━━━━━━━━━━━━━━━━━━━\u001b[0m\u001b[37m\u001b[0m \u001b[1m279s\u001b[0m 223ms/step - accuracy: 0.5738 - loss: 1.8837\n",
      "Epoch 12/30\n",
      "\u001b[1m1247/1247\u001b[0m \u001b[32m━━━━━━━━━━━━━━━━━━━━\u001b[0m\u001b[37m\u001b[0m \u001b[1m381s\u001b[0m 270ms/step - accuracy: 0.5942 - loss: 1.7437\n",
      "Epoch 13/30\n",
      "\u001b[1m1247/1247\u001b[0m \u001b[32m━━━━━━━━━━━━━━━━━━━━\u001b[0m\u001b[37m\u001b[0m \u001b[1m715s\u001b[0m 573ms/step - accuracy: 0.6118 - loss: 1.6396\n",
      "Epoch 14/30\n",
      "\u001b[1m1247/1247\u001b[0m \u001b[32m━━━━━━━━━━━━━━━━━━━━\u001b[0m\u001b[37m\u001b[0m \u001b[1m417s\u001b[0m 334ms/step - accuracy: 0.6433 - loss: 1.4860\n",
      "Epoch 15/30\n",
      "\u001b[1m1247/1247\u001b[0m \u001b[32m━━━━━━━━━━━━━━━━━━━━\u001b[0m\u001b[37m\u001b[0m \u001b[1m318s\u001b[0m 234ms/step - accuracy: 0.6639 - loss: 1.3909\n",
      "Epoch 16/30\n",
      "\u001b[1m1247/1247\u001b[0m \u001b[32m━━━━━━━━━━━━━━━━━━━━\u001b[0m\u001b[37m\u001b[0m \u001b[1m296s\u001b[0m 237ms/step - accuracy: 0.6781 - loss: 1.2898\n",
      "Epoch 17/30\n",
      "\u001b[1m1247/1247\u001b[0m \u001b[32m━━━━━━━━━━━━━━━━━━━━\u001b[0m\u001b[37m\u001b[0m \u001b[1m287s\u001b[0m 230ms/step - accuracy: 0.6934 - loss: 1.2003\n",
      "Epoch 18/30\n",
      "\u001b[1m1247/1247\u001b[0m \u001b[32m━━━━━━━━━━━━━━━━━━━━\u001b[0m\u001b[37m\u001b[0m \u001b[1m279s\u001b[0m 223ms/step - accuracy: 0.7125 - loss: 1.1315\n",
      "Epoch 19/30\n",
      "\u001b[1m1247/1247\u001b[0m \u001b[32m━━━━━━━━━━━━━━━━━━━━\u001b[0m\u001b[37m\u001b[0m \u001b[1m293s\u001b[0m 200ms/step - accuracy: 0.7286 - loss: 1.0561\n",
      "Epoch 20/30\n",
      "\u001b[1m1247/1247\u001b[0m \u001b[32m━━━━━━━━━━━━━━━━━━━━\u001b[0m\u001b[37m\u001b[0m \u001b[1m261s\u001b[0m 199ms/step - accuracy: 0.7425 - loss: 0.9901\n",
      "Epoch 21/30\n",
      "\u001b[1m1247/1247\u001b[0m \u001b[32m━━━━━━━━━━━━━━━━━━━━\u001b[0m\u001b[37m\u001b[0m \u001b[1m267s\u001b[0m 214ms/step - accuracy: 0.7559 - loss: 0.9315\n",
      "Epoch 22/30\n",
      "\u001b[1m1247/1247\u001b[0m \u001b[32m━━━━━━━━━━━━━━━━━━━━\u001b[0m\u001b[37m\u001b[0m \u001b[1m283s\u001b[0m 227ms/step - accuracy: 0.7673 - loss: 0.8727\n",
      "Epoch 23/30\n",
      "\u001b[1m 869/1247\u001b[0m \u001b[32m━━━━━━━━━━━━━\u001b[0m\u001b[37m━━━━━━━\u001b[0m \u001b[1m1:16\u001b[0m 201ms/step - accuracy: 0.7763 - loss: 0.8375"
     ]
    }
   ],
   "source": [
    "history = model.fit(X, y, epochs=30, verbose=1)"
   ]
  },
  {
   "cell_type": "code",
   "execution_count": 132,
   "id": "c2eab89f-3f44-4c71-be4c-b7b2a1186503",
   "metadata": {},
   "outputs": [
    {
     "name": "stdout",
     "output_type": "stream",
     "text": [
      "Prime Minister of independent India, Jawaharlal Nehru, played a pivotal role during a period which was the most minister of islam in india during the first battle of plassey in 1757 ce where the british under robert clive defeated siraj ud daula the nawab of bengal and artistic achievement and would characterize the administration of delhi literature in the early 13th century in modern day islamic across and intellectual activity in india setting the stage for the establishment\n"
     ]
    }
   ],
   "source": [
    "seed = \"Prime Minister of independent India, Jawaharlal Nehru, played a pivotal role during a period which was the most\"\n",
    "generated = generate_text(seed, next_words=60, model=model, tokenizer=tokenizer, max_sequence_len=max_seq_len)\n",
    "print(generated)"
   ]
  }
 ],
 "metadata": {
  "kernelspec": {
   "display_name": "NLP",
   "language": "python",
   "name": "nlp_env"
  },
  "language_info": {
   "codemirror_mode": {
    "name": "ipython",
    "version": 3
   },
   "file_extension": ".py",
   "mimetype": "text/x-python",
   "name": "python",
   "nbconvert_exporter": "python",
   "pygments_lexer": "ipython3",
   "version": "3.9.21"
  }
 },
 "nbformat": 4,
 "nbformat_minor": 5
}
